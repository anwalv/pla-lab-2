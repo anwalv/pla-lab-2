{
 "cells": [
  {
   "cell_type": "code",
   "id": "initial_id",
   "metadata": {
    "collapsed": true,
    "ExecuteTime": {
     "end_time": "2024-06-16T06:46:52.718444Z",
     "start_time": "2024-06-16T06:46:52.547524Z"
    }
   },
   "source": [
    "import numpy as np\n",
    "import matplotlib.pyplot as plt\n",
    "from matplotlib.image import imread"
   ],
   "outputs": [],
   "execution_count": 4
  },
  {
   "metadata": {},
   "cell_type": "code",
   "outputs": [],
   "execution_count": null,
   "source": "",
   "id": "36e5647e33e8c1ba"
  },
  {
   "metadata": {
    "ExecuteTime": {
     "end_time": "2024-06-16T06:46:56.213662Z",
     "start_time": "2024-06-16T06:46:56.198317Z"
    }
   },
   "cell_type": "code",
   "source": [
    "matrix = np.array([[1, 2, 3], [4, 5, 6], [7, 8, 9]])\n",
    "print(matrix)\n",
    "eigenvalues, eigenvectors = np.linalg.eig(matrix)\n",
    "print(\"Eigenvalues: \", eigenvalues)\n",
    "print(\"Eigenvectors: \\n\", eigenvectors)\n"
   ],
   "id": "f27cfbfbde5fe6a1",
   "outputs": [
    {
     "name": "stdout",
     "output_type": "stream",
     "text": [
      "[[1 2 3]\n",
      " [4 5 6]\n",
      " [7 8 9]]\n",
      "Eigenvalues:  [ 1.61168440e+01 -1.11684397e+00 -1.30367773e-15]\n",
      "Eigenvectors: \n",
      " [[-0.23197069 -0.78583024  0.40824829]\n",
      " [-0.52532209 -0.08675134 -0.81649658]\n",
      " [-0.8186735   0.61232756  0.40824829]]\n"
     ]
    }
   ],
   "execution_count": 5
  },
  {
   "metadata": {
    "ExecuteTime": {
     "end_time": "2024-06-16T06:46:05.450096Z",
     "start_time": "2024-06-16T06:46:05.444914Z"
    }
   },
   "cell_type": "code",
   "source": "",
   "id": "ee59262a60c15fbe",
   "outputs": [],
   "execution_count": 2
  },
  {
   "metadata": {},
   "cell_type": "code",
   "outputs": [],
   "execution_count": null,
   "source": "",
   "id": "f9a157cf6c896f7f"
  },
  {
   "metadata": {
    "ExecuteTime": {
     "end_time": "2024-06-16T06:47:13.557881Z",
     "start_time": "2024-06-16T06:47:13.550396Z"
    }
   },
   "cell_type": "code",
   "source": [
    "for i in range(len(eigenvalues)):\n",
    "    eigenvalue = eigenvalues[i]\n",
    "    eigenvector = eigenvectors[:, i]\n",
    "    # A * v і λ * v\n",
    "    matrix_vector = np.dot(matrix, eigenvector)\n",
    "    value_vector = eigenvalue * eigenvector\n",
    "    if np.allclose(matrix_vector, value_vector):\n",
    "        print(f\"For eigenvalue {eigenvalue}: True\")\n",
    "    else:\n",
    "        print(f\"For eigenvalue {eigenvalue}: False\")"
   ],
   "id": "54d5838356899129",
   "outputs": [
    {
     "name": "stdout",
     "output_type": "stream",
     "text": [
      "For eigenvalue 16.116843969807043: True\n",
      "For eigenvalue -1.1168439698070427: True\n",
      "For eigenvalue -1.3036777264747022e-15: True\n"
     ]
    }
   ],
   "execution_count": 6
  },
  {
   "metadata": {},
   "cell_type": "code",
   "outputs": [],
   "execution_count": null,
   "source": "",
   "id": "691aedffaccbc26a"
  }
 ],
 "metadata": {
  "kernelspec": {
   "display_name": "Python 3",
   "language": "python",
   "name": "python3"
  },
  "language_info": {
   "codemirror_mode": {
    "name": "ipython",
    "version": 2
   },
   "file_extension": ".py",
   "mimetype": "text/x-python",
   "name": "python",
   "nbconvert_exporter": "python",
   "pygments_lexer": "ipython2",
   "version": "2.7.6"
  }
 },
 "nbformat": 4,
 "nbformat_minor": 5
}
